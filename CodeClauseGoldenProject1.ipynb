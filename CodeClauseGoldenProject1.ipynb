{
  "nbformat": 4,
  "nbformat_minor": 0,
  "metadata": {
    "colab": {
      "private_outputs": true,
      "provenance": [],
      "cell_execution_strategy": "setup",
      "include_colab_link": true
    },
    "kernelspec": {
      "name": "python3",
      "display_name": "Python 3"
    },
    "language_info": {
      "name": "python"
    }
  },
  "cells": [
    {
      "cell_type": "markdown",
      "metadata": {
        "id": "view-in-github",
        "colab_type": "text"
      },
      "source": [
        "<a href=\"https://colab.research.google.com/github/Aishwaryaaaaaaaaaa/CodeClauseGoldenTask1-Detection_Of_Parkinsons_Disease/blob/main/CodeClauseGoldenProject1.ipynb\" target=\"_parent\"><img src=\"https://colab.research.google.com/assets/colab-badge.svg\" alt=\"Open In Colab\"/></a>"
      ]
    },
    {
      "cell_type": "markdown",
      "source": [
        "# **DATA SCIENCE INTERNSHIP PROGRAM - CodeClause**    \n",
        "\n"
      ],
      "metadata": {
        "id": "vncDsAP0Gaoa"
      }
    },
    {
      "cell_type": "markdown",
      "source": [
        "## Golden Project Task 1"
      ],
      "metadata": {
        "id": "beRrZCGUAJYm"
      }
    },
    {
      "cell_type": "markdown",
      "source": [
        "**DETECTION OF PARKINSONS DISEASE**"
      ],
      "metadata": {
        "id": "344UYkLVqmEl"
      }
    },
    {
      "cell_type": "markdown",
      "source": [
        "##About The Project\n",
        "In this project i have used several libraries such as NumPy , Pandas , Matplotlib and Seaborn to analyze the data.\n",
        "\n",
        "The project involve several processes such as Data Exploration ,Distribution Of classes , Exploratory Data Analysis , Visualisation through heatmaps , splitting the data into training and testing data.\n",
        "\n",
        "After preprocessing the data , I used XGBoost Classifier Algorithm to build a training model.The model was trained using the training data and then i evaluated its performance on the test data.\n",
        "\n",
        "Overall , this project aimed to detect parkinson's disease out of a given dataset."
      ],
      "metadata": {
        "id": "FJNUwmbgGyua"
      }
    },
    {
      "cell_type": "markdown",
      "source": [
        "**Github LInk :-** https://github.com/Aishwaryaaaaaaaaaa/CodeClauseGoldenTask1-Detection_Of_Parkinsons_Disease"
      ],
      "metadata": {
        "id": "w6K7xa23Elo4"
      }
    },
    {
      "cell_type": "markdown",
      "source": [
        "## **Data Exploration**\n",
        "\n",
        "This dataset is composed of a range of biomedical voice measurements from 31 people, 23 with Parkinson's disease (PD). Each column in the table is a particular voice measure, and each row corresponds to one of 195 voice recordings from these individuals (\"name\" column). The main aim of the data is to discriminate healthy people from those with PD, according to the \"status\" column which is set to 0 for healthy and 1 for PD.\n",
        "\n",
        "\n",
        "## Attribute Information:\n",
        "\n",
        "Matrix column entries (attributes):\n",
        "\n",
        "* name - ASCII subject name and recording number\n",
        "\n",
        "* MDVP:Fo(Hz) - Average vocal fundamental frequency\n",
        "\n",
        "* MDVP:Fhi(Hz) - Maximum vocal fundamental frequency\n",
        "\n",
        "* MDVP:Flo(Hz) - Minimum vocal fundamental frequency\n",
        "\n",
        "* MDVP:Jitter(%) , MDVP:Jitter(Abs) , MDVP:RAP ,MDVP:PPQ , Jitter:DDP - Several measures of variation in fundamental frequency\n",
        "\n",
        "* MDVP:Shimmer , MDVP:Shimmer(dB) , Shimmer:APQ3 , * Shimmer:APQ5 , MDVP:APQ , Shimmer:DDA - Several measures of variation in amplitude\n",
        "\n",
        "* NHR , HNR - Two measures of ratio of noise to tonal components in the voice\n",
        "\n",
        "* status - Health status of the subject (one) - Parkinson's, (zero) - healthy\n",
        "\n",
        "* RPDE , D2 - Two nonlinear dynamical complexity measures\n",
        "\n",
        "* DFA - Signal fractal scaling exponent\n",
        "\n",
        "* spread1 , spread2 , PPE - Three nonlinear measures of fundamental frequency variation"
      ],
      "metadata": {
        "id": "HhfV-JJviCcP"
      }
    },
    {
      "cell_type": "markdown",
      "source": [
        "### Importing Libraries"
      ],
      "metadata": {
        "id": "Y3lxredqlCYt"
      }
    },
    {
      "cell_type": "code",
      "source": [
        "import numpy as np\n",
        "import pandas as pd\n",
        "import seaborn as sns\n",
        "import matplotlib.pyplot as plt\n",
        "import os, sys\n",
        "from sklearn.preprocessing import MinMaxScaler\n",
        "from xgboost import XGBClassifier\n",
        "from sklearn.model_selection import train_test_split\n",
        "from sklearn.metrics import accuracy_score\n"
      ],
      "metadata": {
        "id": "M8Vqi-pPk-HR"
      },
      "execution_count": null,
      "outputs": []
    },
    {
      "cell_type": "markdown",
      "source": [
        "### Importing Dataset"
      ],
      "metadata": {
        "id": "3RnN4peoiCZX"
      }
    },
    {
      "cell_type": "code",
      "source": [
        "#importing the dataset\n",
        "df=pd.read_csv('parkinsons.data')"
      ],
      "metadata": {
        "id": "4CkvbW_SlZ_R"
      },
      "execution_count": null,
      "outputs": []
    },
    {
      "cell_type": "markdown",
      "source": [
        "### Dataset First View"
      ],
      "metadata": {
        "id": "x71ZqKXriCWQ"
      }
    },
    {
      "cell_type": "code",
      "source": [
        "# This is how the dataset looks like\n",
        "df.head()"
      ],
      "metadata": {
        "id": "LWNFOSvLl09H"
      },
      "execution_count": null,
      "outputs": []
    },
    {
      "cell_type": "markdown",
      "source": [
        "### Dataset  Columns count"
      ],
      "metadata": {
        "id": "7hBIi_osiCS2"
      }
    },
    {
      "cell_type": "code",
      "source": [
        "#Checking the columns of the dataset\n",
        "df.columns"
      ],
      "metadata": {
        "id": "Kllu7SJgmLij"
      },
      "execution_count": null,
      "outputs": []
    },
    {
      "cell_type": "markdown",
      "source": [
        "### Dataset Information"
      ],
      "metadata": {
        "id": "JlHwYmJAmNHm"
      }
    },
    {
      "cell_type": "code",
      "source": [
        "#Summary of the dataframe\n",
        "df.info()"
      ],
      "metadata": {
        "id": "e9hRXRi6meOf"
      },
      "execution_count": null,
      "outputs": []
    },
    {
      "cell_type": "code",
      "source": [
        "#checking the statistical information of the dataset\n",
        "df.describe()"
      ],
      "metadata": {
        "id": "eUN_G0fXhU92"
      },
      "execution_count": null,
      "outputs": []
    },
    {
      "cell_type": "markdown",
      "source": [
        "#**Distribution of Classes**"
      ],
      "metadata": {
        "id": "0RagCpSRrsZ4"
      }
    },
    {
      "cell_type": "code",
      "source": [
        "#Counting plot for both labels\n",
        "\n",
        "sns.countplot(x=\"status\", data=df)\n",
        "print(\"1: Parkinson Disease\")\n",
        "print(\"0: Healthy\")\n",
        "print(\"Distribution of status:\")\n",
        "print(df.status.value_counts());\n",
        "plt.title('the number of healthy body to parkinson diseased')"
      ],
      "metadata": {
        "id": "_KKFWvAKkaO8"
      },
      "execution_count": null,
      "outputs": []
    },
    {
      "cell_type": "code",
      "source": [
        "print(round(df.status.value_counts(normalize=True),2)*100);"
      ],
      "metadata": {
        "id": "PX3QthrWleoW"
      },
      "execution_count": null,
      "outputs": []
    },
    {
      "cell_type": "markdown",
      "source": [
        "#**Data Preprocessing**"
      ],
      "metadata": {
        "id": "lbHwrPLvr1dl"
      }
    },
    {
      "cell_type": "markdown",
      "source": [
        "#### Missing Values/Null Values"
      ],
      "metadata": {
        "id": "PoPl-ycgm1ru"
      }
    },
    {
      "cell_type": "code",
      "source": [
        "#Checking  null value in the dataset\n",
        "df.isnull()"
      ],
      "metadata": {
        "id": "GgHWkxvamxVg"
      },
      "execution_count": null,
      "outputs": []
    },
    {
      "cell_type": "code",
      "source": [
        "#counting the null values in the dataset\n",
        "df.isnull().sum()"
      ],
      "metadata": {
        "id": "WObd5-cYhc6c"
      },
      "execution_count": null,
      "outputs": []
    },
    {
      "cell_type": "code",
      "source": [
        "#Visualising to see if there is any null value or not through heatmap\n",
        "sns.heatmap(df.isnull() , yticklabels = False , cbar = True , cmap='viridis')\n"
      ],
      "metadata": {
        "id": "3q5wnI3om9sJ"
      },
      "execution_count": null,
      "outputs": []
    },
    {
      "cell_type": "markdown",
      "source": [
        "We could clearly see there is no yellow line appearing.Hence , there is no null value ."
      ],
      "metadata": {
        "id": "BJ5mjQoimo_w"
      }
    },
    {
      "cell_type": "markdown",
      "source": [
        "## **Understanding Variables**"
      ],
      "metadata": {
        "id": "nA9Y7ga8ng1Z"
      }
    },
    {
      "cell_type": "code",
      "source": [
        "# checking the  columns of the dataset\n",
        "df.columns"
      ],
      "metadata": {
        "id": "j7xfkqrt5Ag5"
      },
      "execution_count": null,
      "outputs": []
    },
    {
      "cell_type": "code",
      "source": [
        "# Describing the dataset\n",
        "df.describe()"
      ],
      "metadata": {
        "id": "DnOaZdaE5Q5t"
      },
      "execution_count": null,
      "outputs": []
    },
    {
      "cell_type": "markdown",
      "source": [
        "##  **Exploratory Data Analysis**"
      ],
      "metadata": {
        "id": "dauF4eBmngu3"
      }
    },
    {
      "cell_type": "code",
      "source": [
        "# features and labels\n",
        "features=df.loc[:,df.columns!='status'].values[:,1:]\n",
        "labels=df.loc[:,'status'].values"
      ],
      "metadata": {
        "id": "ZSWWiUoQfPUP"
      },
      "execution_count": null,
      "outputs": []
    },
    {
      "cell_type": "code",
      "source": [
        "# counting each label (0 and 1) in labels\n",
        "print(labels[labels==1].shape[0], labels[labels==0].shape[0])"
      ],
      "metadata": {
        "id": "ZaB-gpWOnNOw"
      },
      "execution_count": null,
      "outputs": []
    },
    {
      "cell_type": "code",
      "source": [
        "#Scaling the features to between -1 and 1\n",
        "scaler=MinMaxScaler((-1,1))\n",
        "x=scaler.fit_transform(features)\n",
        "y=labels"
      ],
      "metadata": {
        "id": "RXIqoBWoniQj"
      },
      "execution_count": null,
      "outputs": []
    },
    {
      "cell_type": "code",
      "source": [
        "#Spliting the dataset\n",
        "x_train,x_test,y_train,y_test=train_test_split(x, y, test_size=0.2, random_state=7)"
      ],
      "metadata": {
        "id": "5nVEXMpxnkC0"
      },
      "execution_count": null,
      "outputs": []
    },
    {
      "cell_type": "code",
      "source": [
        "# Training the model\n",
        "model=XGBClassifier()\n",
        "model.fit(x_train,y_train)"
      ],
      "metadata": {
        "id": "4Xw1ANDcnsM7"
      },
      "execution_count": null,
      "outputs": []
    },
    {
      "cell_type": "markdown",
      "source": [
        "#**Evaluation**"
      ],
      "metadata": {
        "id": "I9ig-RW2r_jJ"
      }
    },
    {
      "cell_type": "code",
      "source": [
        "# Calculating the accuracy\n",
        "y_pred=model.predict(x_test)\n",
        "print(accuracy_score(y_test, y_pred)*100)"
      ],
      "metadata": {
        "id": "T7UvL5mCn5Sy"
      },
      "execution_count": null,
      "outputs": []
    },
    {
      "cell_type": "markdown",
      "source": [
        "With the XGB Classifier model , i got an accuracy of 94.8%."
      ],
      "metadata": {
        "id": "Et_HV1hlqhqe"
      }
    },
    {
      "cell_type": "markdown",
      "source": [
        "# **THANK YOU !!!**"
      ],
      "metadata": {
        "id": "VS4ph7QboqFK"
      }
    }
  ]
}